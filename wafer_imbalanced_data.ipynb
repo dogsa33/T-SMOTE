{
  "nbformat": 4,
  "nbformat_minor": 0,
  "metadata": {
    "colab": {
      "provenance": []
    },
    "kernelspec": {
      "name": "python3",
      "display_name": "Python 3"
    },
    "language_info": {
      "name": "python"
    }
  },
  "cells": [
    {
      "cell_type": "code",
      "execution_count": 26,
      "metadata": {
        "colab": {
          "base_uri": "https://localhost:8080/"
        },
        "id": "j38YFBwmRFwk",
        "outputId": "4c7469c4-2779-4254-f299-b5e7751642cd"
      },
      "outputs": [
        {
          "output_type": "stream",
          "name": "stderr",
          "text": [
            "<ipython-input-26-39acaac820f5>:21: FutureWarning: The frame.append method is deprecated and will be removed from pandas in a future version. Use pandas.concat instead.\n",
            "  balanced_train_data = train_data.loc[selected_positive_indices].append(train_data[train_data.iloc[:, 0] == negative_class_label])\n"
          ]
        },
        {
          "output_type": "execute_result",
          "data": {
            "text/plain": [
              "(18.06, (953, 152), (953,), (6164, 152), (6164,))"
            ]
          },
          "metadata": {},
          "execution_count": 26
        }
      ],
      "source": [
        "import pandas as pd\n",
        "import numpy as np\n",
        "\n",
        "\n",
        "# 데이터 불러오기\n",
        "train_data = pd.read_csv('wafer_TRAIN', header=None, sep=',')\n",
        "test_data = pd.read_csv('wafer_TEST', header=None, sep=',')\n",
        "\n",
        "# 긍정적 클래스(소수 클래스)의 샘플을 무작위로 선택하여 불균형 비율 조정\n",
        "# 긍정적 클래스는 '-1', 부정적 클래스는 '1'로 가정 (논문의 설정에 따라서 다를 수 있음)\n",
        "positive_class_label = -1\n",
        "negative_class_label = 1\n",
        "\n",
        "# 긍정적 클래스의 인덱스 추출\n",
        "positive_indices = train_data[train_data.iloc[:, 0] == positive_class_label].index\n",
        "\n",
        "# 긍정적 클래스 샘플 중 무작위로 선택 (예를 들어 52%만 유지)\n",
        "selected_positive_indices = np.random.choice(positive_indices, size=int(len(positive_indices) * 0.52), replace=False)\n",
        "\n",
        "# 불균형 데이터셋 생성\n",
        "balanced_train_data = train_data.loc[selected_positive_indices].append(train_data[train_data.iloc[:, 0] == negative_class_label])\n",
        "\n",
        "# 새로운 훈련 및 테스트 세트 분할\n",
        "X_train, y_train = balanced_train_data.iloc[:, 1:], balanced_train_data.iloc[:, 0]\n",
        "X_test, y_test = test_data.iloc[:, 1:], test_data.iloc[:, 0]\n",
        "\n",
        "# 불균형 비율 확인\n",
        "imbalance_ratio = len(y_train[y_train == negative_class_label]) / len(y_train[y_train == positive_class_label])\n",
        "imbalance_ratio, X_train.shape, y_train.shape, X_test.shape, y_test.shape\n"
      ]
    },
    {
      "cell_type": "code",
      "source": [
        "# positive 개수 , Imbalance ratio 맞춤\n",
        "(y_train==-1).sum()"
      ],
      "metadata": {
        "colab": {
          "base_uri": "https://localhost:8080/"
        },
        "id": "dY0RejMWSKMO",
        "outputId": "d6d35ec2-4fc6-4d1c-e354-9c5cadedaeca"
      },
      "execution_count": 27,
      "outputs": [
        {
          "output_type": "execute_result",
          "data": {
            "text/plain": [
              "50"
            ]
          },
          "metadata": {},
          "execution_count": 27
        }
      ]
    },
    {
      "cell_type": "code",
      "source": [
        "from sklearn.model_selection import train_test_split\n",
        "from sklearn.preprocessing import StandardScaler\n",
        "from sklearn.ensemble import RandomForestClassifier\n",
        "from sklearn.metrics import roc_auc_score, f1_score, precision_recall_curve, auc\n",
        "from imblearn.over_sampling import SMOTE\n",
        "from imblearn.pipeline import Pipeline\n",
        "\n",
        "# 데이터셋 준비\n",
        "# X_train, y_train, X_test, y_test = ...\n",
        "\n",
        "# 파이프라인 생성: 스케일링, SMOTE, 분류기 순으로 처리\n",
        "pipeline = Pipeline([\n",
        "    ('scaler', StandardScaler()),  # 데이터 스케일링\n",
        "    ('smote', SMOTE(random_state=42)),  # SMOTE 오버샘플링\n",
        "    ('classifier', RandomForestClassifier(random_state=42))  # 분류기\n",
        "])\n",
        "\n",
        "# 모델 훈련\n",
        "pipeline.fit(X_train, y_train)\n",
        "\n",
        "# 테스트 데이터에 대한 예측 수행\n",
        "y_pred = pipeline.predict(X_test)\n",
        "y_pred_proba = pipeline.predict_proba(X_test)[:, 1]  # 양성 클래스에 대한 확률\n",
        "\n",
        "# 성능 지표 계산\n",
        "auc_score = roc_auc_score(y_test, y_pred_proba)\n",
        "f1 = f1_score(y_test, y_pred)\n",
        "precision, recall, _ = precision_recall_curve(y_test, y_pred_proba)\n",
        "auprc = auc(recall, precision)\n",
        "\n",
        "# 결과 출력\n",
        "print(f\"AUC: {auc_score}\")\n",
        "print(f\"F1 Score: {f1}\")\n",
        "print(f\"AUPRC: {auprc}\")\n"
      ],
      "metadata": {
        "colab": {
          "base_uri": "https://localhost:8080/"
        },
        "id": "lpzHCbGxSoF9",
        "outputId": "f446ec32-cdd3-4ff5-b2c1-5b720d6b57c3"
      },
      "execution_count": 31,
      "outputs": [
        {
          "output_type": "stream",
          "name": "stdout",
          "text": [
            "AUC: 0.9990649017524716\n",
            "F1 Score: 0.9935600907029478\n",
            "AUPRC: 0.9998898793253912\n"
          ]
        }
      ]
    },
    {
      "cell_type": "code",
      "source": [],
      "metadata": {
        "id": "HS8vIvPiufFl"
      },
      "execution_count": null,
      "outputs": []
    }
  ]
}